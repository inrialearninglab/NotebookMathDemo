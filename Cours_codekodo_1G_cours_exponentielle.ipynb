{
  "nbformat": 4,
  "nbformat_minor": 0,
  "metadata": {
    "kernelspec": {
      "display_name": "Python 3",
      "language": "python",
      "name": "python3"
    },
    "language_info": {
      "codemirror_mode": {
        "name": "ipython",
        "version": 3
      },
      "file_extension": ".py",
      "mimetype": "text/x-python",
      "name": "python",
      "nbconvert_exporter": "python",
      "pygments_lexer": "ipython3",
      "version": "3.7.3"
    },
    "colab": {
      "name": "1G-cours-exponentielle.ipynb",
      "provenance": []
    }
  },
  "cells": [
    {
      "cell_type": "markdown",
      "metadata": {
        "id": "Denq-NUXzg96",
        "colab_type": "text"
      },
      "source": [
        "# La fonction exponentielle\n",
        "\n",
        "Il existe de nombreuses situations dans lesquelles la situation est modélisée par une équation de la forme $f ′ = k \\cdot f$ avec $k\\in\\mathbb{R}$. Ce type d’équation dont l’inconnue est une fonction et qui fait intervenir sa dérivée est appelée *équation différentielle*."
      ]
    },
    {
      "cell_type": "markdown",
      "metadata": {
        "id": "WnpmVCOczg-C",
        "colab_type": "text"
      },
      "source": [
        "## La fonction exponentielle\n",
        "\n",
        "L’unique fonction $f$ définie et dérivable sur $\\mathbb{R}$ vérifiant $f ′ = f$ et $f (0) = 1$ est appelée *fonction exponentielle* et est notée exp.\n",
        "\n",
        "$$ f : x \\mapsto \\exp(x) $$\n",
        "\n",
        "Ainsi,  $\\forall x\\in \\mathbb{R}\\,,\\exp′(x) = \\exp(x)$ et $\\exp(0) = 1$.\n",
        "\n",
        "\n"
      ]
    },
    {
      "cell_type": "markdown",
      "metadata": {
        "id": "TDp_LcE9zg-H",
        "colab_type": "text"
      },
      "source": [
        "Par la méthode d'Euler, on peut obtenir une approximation de $\\exp(a)$ pour tout réel $a$\n",
        "\n",
        "Rappel : on $f(a+h) = f'(a) \\times h + f(a)$\n",
        "\n",
        "D'où, comme ici $f'(a) = f(a)$, on a $$\\forall a,h\\in \\mathbb{R}\\,, f(a+h) = f(a)\\cdot (1+h)$$\n"
      ]
    },
    {
      "cell_type": "code",
      "metadata": {
        "id": "OQrorEz1zg-T",
        "colab_type": "code",
        "colab": {}
      },
      "source": [
        "# Approximation de exp(a)\n",
        "def exp(a):\n",
        "    h = .0001\n",
        "    x= 0\n",
        "    f = 1\n",
        "    if a>0 : \n",
        "        while x < a :\n",
        "            f = f*(1+h)\n",
        "            x += h\n",
        "    else :\n",
        "        while x > a :\n",
        "            f = f*(1-h)\n",
        "            x = x-h\n",
        "    return f"
      ],
      "execution_count": null,
      "outputs": []
    },
    {
      "cell_type": "markdown",
      "metadata": {
        "id": "mr-9gf8Pzg-1",
        "colab_type": "text"
      },
      "source": [
        "### Approximation de $\\exp(1)$ et conjectures sur les règles opératoires"
      ]
    },
    {
      "cell_type": "code",
      "metadata": {
        "id": "gNno0Pg8zg-4",
        "colab_type": "code",
        "colab": {},
        "outputId": "e44667f9-6bc1-4979-f512-7470bcb40d9f"
      },
      "source": [
        "exp(1)"
      ],
      "execution_count": null,
      "outputs": [
        {
          "output_type": "execute_result",
          "data": {
            "text/plain": [
              "2.7184177414175807"
            ]
          },
          "metadata": {
            "tags": []
          },
          "execution_count": 18
        }
      ]
    },
    {
      "cell_type": "code",
      "metadata": {
        "id": "1nAA1Zo9zg_R",
        "colab_type": "code",
        "colab": {},
        "outputId": "edf5b564-656d-42bc-ef15-4b94fc37b7d3"
      },
      "source": [
        "print(exp(2+3),exp(2)*exp(3))"
      ],
      "execution_count": null,
      "outputs": [
        {
          "output_type": "stream",
          "text": [
            "148.37606292299085 148.39090052927986\n"
          ],
          "name": "stdout"
        }
      ]
    },
    {
      "cell_type": "markdown",
      "metadata": {
        "id": "ScZvWX9dzg_j",
        "colab_type": "text"
      },
      "source": [
        "### Représentation graphique (méthode d'Euler)"
      ]
    },
    {
      "cell_type": "code",
      "metadata": {
        "id": "vWhdUtwCzg_n",
        "colab_type": "code",
        "colab": {},
        "outputId": "22b99f56-86b3-4764-c088-fd655dbcf2c9"
      },
      "source": [
        "# Courbe de exp sur [a;b]\n",
        "\n",
        "import matplotlib.pyplot as plt\n",
        "\n",
        "def courbe_approx(a,b):\n",
        "    x = a\n",
        "    liste_x=[]\n",
        "    liste_y=[]\n",
        "    # courbe approchée de f\n",
        "    while x<b :\n",
        "        liste_x.append(x)\n",
        "        liste_y.append(exp(x))\n",
        "        x += .01\n",
        "    plt.plot(liste_x,liste_y)\n",
        "\n",
        "courbe_approx(-5,5)"
      ],
      "execution_count": null,
      "outputs": [
        {
          "output_type": "display_data",
          "data": {
            "image/png": "[encoded data removed]",
            "text/plain": [
              "<Figure size 432x288 with 1 Axes>"
            ]
          },
          "metadata": {
            "tags": [],
            "needs_background": "light"
          }
        }
      ]
    },
    {
      "cell_type": "code",
      "metadata": {
        "id": "BW4oO9nOzg_5",
        "colab_type": "code",
        "colab": {}
      },
      "source": [
        ""
      ],
      "execution_count": null,
      "outputs": []
    }
  ]
}